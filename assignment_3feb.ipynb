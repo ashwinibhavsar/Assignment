{
 "cells": [
  {
   "cell_type": "code",
   "execution_count": null,
   "id": "a3baa4ab-fb3e-4695-8ca9-9fe3f6c18922",
   "metadata": {},
   "outputs": [],
   "source": [
    "#Question 1\n",
    "#which keyword is used to create a function, create the function to return the list of odd numbers in the range of 1 to 25"
   ]
  },
  {
   "cell_type": "code",
   "execution_count": 2,
   "id": "fe9e6285-88cb-4ec0-bc01-18b1a3435918",
   "metadata": {},
   "outputs": [
    {
     "data": {
      "text/plain": [
       "[1, 3, 5, 7, 9, 11, 13, 15, 17, 19, 21, 23, 25]"
      ]
     },
     "execution_count": 2,
     "metadata": {},
     "output_type": "execute_result"
    }
   ],
   "source": [
    "#def keyword is used to create function\n",
    "k = list(range(1,26,2))\n",
    "def type1(k):\n",
    "    l1=[]\n",
    "    for i in range(1,26,2):\n",
    "        l1.append(i)\n",
    "    return l1 \n",
    "type1(k)"
   ]
  },
  {
   "cell_type": "code",
   "execution_count": null,
   "id": "1b8ddf77-6609-4ff8-8676-99adbc494919",
   "metadata": {},
   "outputs": [],
   "source": []
  },
  {
   "cell_type": "code",
   "execution_count": null,
   "id": "9a9f99b2-0dea-43db-bf2e-5f95e24eaeba",
   "metadata": {},
   "outputs": [],
   "source": [
    "#Question 2\n",
    "#why *args and **kwargs is used in some function , create a function each for *args and **kwargs to demonstrate their use"
   ]
  },
  {
   "cell_type": "code",
   "execution_count": 1,
   "id": "5d33d35c-c02e-4cdb-90e5-0bf6c2f0db83",
   "metadata": {},
   "outputs": [],
   "source": [
    "#ans:The special syntax *args in function definitions in python is used to pass a variable number of arguments to a function.\n",
    "#    The special syntax **kwargs in function definitions in python is used to pass a keyworded, variable-length argument list. \n",
    "def add(*args):\n",
    "    print(args,type(args))"
   ]
  },
  {
   "cell_type": "code",
   "execution_count": 2,
   "id": "995b11f2-883b-4503-901b-117b43ca7f34",
   "metadata": {},
   "outputs": [
    {
     "name": "stdout",
     "output_type": "stream",
     "text": [
      "(2, 3) <class 'tuple'>\n"
     ]
    }
   ],
   "source": [
    "add(2,3)"
   ]
  },
  {
   "cell_type": "code",
   "execution_count": 7,
   "id": "0775ec28-b1fe-4809-a750-09cfd74692a8",
   "metadata": {},
   "outputs": [
    {
     "name": "stdout",
     "output_type": "stream",
     "text": [
      "{'ashwini': 90, 'ganesh': 95, 'pooja': 97}\n"
     ]
    }
   ],
   "source": [
    "\n",
    "def total_marks(**kwargs):\n",
    "    print(kwargs)\n",
    "total_marks(ashwini=90, ganesh=95,pooja= 97)    "
   ]
  },
  {
   "cell_type": "code",
   "execution_count": null,
   "id": "a30d3974-1e63-466b-a258-04e118adaa15",
   "metadata": {},
   "outputs": [],
   "source": []
  },
  {
   "cell_type": "code",
   "execution_count": null,
   "id": "dca7d093-6ec7-4f1e-8d35-10364c30572b",
   "metadata": {},
   "outputs": [],
   "source": []
  },
  {
   "cell_type": "code",
   "execution_count": null,
   "id": "0af0e46d-fa11-45ee-a83b-2ee65af355af",
   "metadata": {},
   "outputs": [],
   "source": [
    "#Question 3\n",
    "#what is an iterator in python, name the method used to initialise the iterator object and the method used for iteration. use these method to\n",
    "#print the first five element of the given list[2,4,6,8,10,12,14,16,18,20]"
   ]
  },
  {
   "cell_type": "code",
   "execution_count": 63,
   "id": "ba937b47-98bd-4974-bcb2-7aa1300b9ab0",
   "metadata": {},
   "outputs": [
    {
     "data": {
      "text/plain": [
       "list_iterator"
      ]
     },
     "execution_count": 63,
     "metadata": {},
     "output_type": "execute_result"
    }
   ],
   "source": [
    "#ans: an iterator is an object that contains a countable number of values. The iter() is used to initilized the iterator object\n",
    "l = [2,4,6,8,10,12,14,16,18,20]\n",
    "l1 = iter(l)\n",
    "type(l1)\n"
   ]
  },
  {
   "cell_type": "code",
   "execution_count": 10,
   "id": "464971fc-ae41-4ae4-b2d6-7f99abfb4b53",
   "metadata": {},
   "outputs": [
    {
     "data": {
      "text/plain": [
       "2"
      ]
     },
     "execution_count": 10,
     "metadata": {},
     "output_type": "execute_result"
    }
   ],
   "source": [
    "next(l1)"
   ]
  },
  {
   "cell_type": "code",
   "execution_count": 11,
   "id": "0cdf87d8-b9bf-4987-bc46-c68d6f33f6ab",
   "metadata": {},
   "outputs": [
    {
     "data": {
      "text/plain": [
       "4"
      ]
     },
     "execution_count": 11,
     "metadata": {},
     "output_type": "execute_result"
    }
   ],
   "source": [
    "next(l1)"
   ]
  },
  {
   "cell_type": "code",
   "execution_count": 12,
   "id": "2b28d81f-22d2-4df5-892b-5b8856330d6d",
   "metadata": {},
   "outputs": [
    {
     "data": {
      "text/plain": [
       "6"
      ]
     },
     "execution_count": 12,
     "metadata": {},
     "output_type": "execute_result"
    }
   ],
   "source": [
    "next(l1)"
   ]
  },
  {
   "cell_type": "code",
   "execution_count": 13,
   "id": "2b77283f-8665-4cc5-878d-dfbc8da2bcb7",
   "metadata": {},
   "outputs": [
    {
     "data": {
      "text/plain": [
       "8"
      ]
     },
     "execution_count": 13,
     "metadata": {},
     "output_type": "execute_result"
    }
   ],
   "source": [
    "next(l1)"
   ]
  },
  {
   "cell_type": "code",
   "execution_count": 14,
   "id": "d1bc0b05-980e-4419-b754-e94c1859237a",
   "metadata": {},
   "outputs": [
    {
     "data": {
      "text/plain": [
       "10"
      ]
     },
     "execution_count": 14,
     "metadata": {},
     "output_type": "execute_result"
    }
   ],
   "source": [
    "next(l1)"
   ]
  },
  {
   "cell_type": "code",
   "execution_count": null,
   "id": "44859758-c37c-49ad-9547-b008a485c588",
   "metadata": {},
   "outputs": [],
   "source": []
  },
  {
   "cell_type": "code",
   "execution_count": 24,
   "id": "79281782-df68-4b04-981b-00fcce000cfa",
   "metadata": {},
   "outputs": [],
   "source": [
    "#Question 4\n",
    "#what is the generator function in python, why yield keyword is used, give an example of generator function"
   ]
  },
  {
   "cell_type": "code",
   "execution_count": 25,
   "id": "b6bf3019-e88a-456f-a950-d30e60b35af8",
   "metadata": {},
   "outputs": [],
   "source": [
    "#generator is a function that returns an iterator that produces a sequence of values when iterated over\n",
    "#yield keyword is used to create a generator function\n",
    "def simple():\n",
    "    for i in range(0,20,2):\n",
    "        if(i%4==0):\n",
    "            yield i"
   ]
  },
  {
   "cell_type": "code",
   "execution_count": 27,
   "id": "36e80b56-cfca-4d90-96f1-1d5e333c867a",
   "metadata": {},
   "outputs": [
    {
     "name": "stdout",
     "output_type": "stream",
     "text": [
      "0\n",
      "4\n",
      "8\n",
      "12\n",
      "16\n"
     ]
    }
   ],
   "source": [
    "for i in simple():\n",
    "    print(i)"
   ]
  },
  {
   "cell_type": "code",
   "execution_count": null,
   "id": "b07adc6a-af5c-4596-8e6a-7670dfd66e42",
   "metadata": {},
   "outputs": [],
   "source": []
  },
  {
   "cell_type": "code",
   "execution_count": null,
   "id": "ad3eddee-61ad-48b0-bfe2-df4dbef0e00b",
   "metadata": {},
   "outputs": [],
   "source": []
  },
  {
   "cell_type": "code",
   "execution_count": null,
   "id": "69a088da-b502-4dd1-bf16-a9f55703cfc7",
   "metadata": {},
   "outputs": [],
   "source": [
    "#Question 5\n",
    "#create the generator function for prime number less than 1000. Use the next() method to print the first 20 prime numbers."
   ]
  },
  {
   "cell_type": "code",
   "execution_count": 18,
   "id": "943f6291-8fba-4d8b-a2ae-9e23241d167e",
   "metadata": {},
   "outputs": [
    {
     "name": "stdout",
     "output_type": "stream",
     "text": [
      "[2, 3, 5, 7, 11, 13, 17, 19, 23, 29, 31, 37, 41, 43, 47, 53, 59, 61, 67, 71, 73, 79, 83, 89, 97, 101, 103, 107, 109, 113, 127, 131, 137, 139, 149, 151, 157, 163, 167, 173, 179, 181, 191, 193, 197, 199, 211, 223, 227, 229, 233, 239, 241, 251, 257, 263, 269, 271, 277, 281, 283, 293, 307, 311, 313, 317, 331, 337, 347, 349, 353, 359, 367, 373, 379, 383, 389, 397, 401, 409, 419, 421, 431, 433, 439, 443, 449, 457, 461, 463, 467, 479, 487, 491, 499, 503, 509, 521, 523, 541, 547, 557, 563, 569, 571, 577, 587, 593, 599, 601, 607, 613, 617, 619, 631, 641, 643, 647, 653, 659, 661, 673, 677, 683, 691, 701, 709, 719, 727, 733, 739, 743, 751, 757, 761, 769, 773, 787, 797, 809, 811, 821, 823, 827, 829, 839, 853, 857, 859, 863, 877, 881, 883, 887, 907, 911, 919, 929, 937, 941, 947, 953, 967, 971, 977, 983, 991, 997]\n"
     ]
    }
   ],
   "source": [
    "def prime_num(n):\n",
    "    i=2\n",
    "    while(i<=n):\n",
    "        j=2\n",
    "        while(j<=n):\n",
    "            if(i%j==0):\n",
    "                break\n",
    "            j=j+1\n",
    "        if (i==j):\n",
    "            yield i\n",
    "        i=i+1            \n",
    "l=[]\n",
    "for i in prime_num(1000):\n",
    "    l.append(i) \n",
    "print(l) "
   ]
  },
  {
   "cell_type": "code",
   "execution_count": 55,
   "id": "c80412bc-9eca-47b2-a95b-7f7ddf2463d6",
   "metadata": {},
   "outputs": [
    {
     "name": "stdout",
     "output_type": "stream",
     "text": [
      "[2, 3, 5, 7, 11, 13, 17, 19, 23, 29, 31, 37, 41, 43, 47, 53, 59, 61, 67, 71]\n"
     ]
    }
   ],
   "source": [
    "l1 = iter(l)\n",
    "l3 =[]\n",
    "c = prime_num(100)\n",
    "for i in range(1,21,1):\n",
    "    c1= next(c)\n",
    "    l3.append(c1)\n",
    "print(l3)    "
   ]
  },
  {
   "cell_type": "code",
   "execution_count": null,
   "id": "592c36e8-847b-452e-ba07-4cc16c860cfe",
   "metadata": {},
   "outputs": [],
   "source": []
  },
  {
   "cell_type": "code",
   "execution_count": null,
   "id": "b9672bee-60a9-45b6-99fc-a862d2ace270",
   "metadata": {},
   "outputs": [],
   "source": []
  },
  {
   "cell_type": "code",
   "execution_count": null,
   "id": "dd712dbd-0354-4e42-b9a9-603c8df93bbe",
   "metadata": {},
   "outputs": [],
   "source": [
    "#Question 6\n",
    "#write the python program to print the first 10 fibonacci number using a while loop"
   ]
  },
  {
   "cell_type": "code",
   "execution_count": 5,
   "id": "ca3cca9a-a762-4692-aac2-f21481053fb8",
   "metadata": {},
   "outputs": [
    {
     "name": "stdout",
     "output_type": "stream",
     "text": [
      "0\n",
      "1\n",
      "1\n",
      "2\n",
      "3\n",
      "5\n",
      "8\n",
      "13\n",
      "21\n",
      "34\n"
     ]
    }
   ],
   "source": [
    "i = 0\n",
    "a,b=0,1\n",
    "while(i<10):\n",
    "    print(a)\n",
    "    c = a+b\n",
    "    a=b\n",
    "    b=c\n",
    "    i=i+1\n",
    "      "
   ]
  },
  {
   "cell_type": "code",
   "execution_count": null,
   "id": "e786c454-10b1-48e8-bec4-dd1214d86865",
   "metadata": {},
   "outputs": [],
   "source": []
  },
  {
   "cell_type": "code",
   "execution_count": null,
   "id": "35b771f9-93ca-47fb-a1fa-74e6f656ac05",
   "metadata": {},
   "outputs": [],
   "source": [
    "#Question 7\n",
    "#write a list comprehension to print iterate through the given string:\"pwskills\""
   ]
  },
  {
   "cell_type": "code",
   "execution_count": 3,
   "id": "0e8fc2c5-d4bc-47cf-873d-99e52feb440e",
   "metadata": {},
   "outputs": [
    {
     "data": {
      "text/plain": [
       "['p', 'w', 's', 'k', 'i', 'l', 'l', 's']"
      ]
     },
     "execution_count": 3,
     "metadata": {},
     "output_type": "execute_result"
    }
   ],
   "source": [
    "str = \"pwskills\"\n",
    "[i for i in str]"
   ]
  },
  {
   "cell_type": "code",
   "execution_count": null,
   "id": "ff142728-2e65-4d99-a9a8-4bc00a5b3df1",
   "metadata": {},
   "outputs": [],
   "source": [
    "#Question 8\n",
    "#write the python program to check whether a given number is palindrome or not using a while loop"
   ]
  },
  {
   "cell_type": "code",
   "execution_count": 2,
   "id": "1dd76674-1e1b-4608-abe2-ab7baf41bf4f",
   "metadata": {},
   "outputs": [
    {
     "name": "stdin",
     "output_type": "stream",
     "text": [
      "Enter the number 5445\n"
     ]
    },
    {
     "name": "stdout",
     "output_type": "stream",
     "text": [
      "It is palindrome number\n"
     ]
    }
   ],
   "source": [
    "n = int(input(\"Enter the number\"))\n",
    "temp = n\n",
    "rev =0\n",
    "while(n>0):\n",
    "    dig = n%10\n",
    "    rev = rev*10+dig\n",
    "    n= n//10\n",
    "if(temp==rev):\n",
    "    print(\"It is palindrome number\")\n",
    "else:\n",
    "    print(\"It is not palindrome number\")"
   ]
  },
  {
   "cell_type": "code",
   "execution_count": null,
   "id": "e9b5ffe4-42dd-4e27-9fe6-e7daecaf0651",
   "metadata": {},
   "outputs": [],
   "source": []
  },
  {
   "cell_type": "code",
   "execution_count": null,
   "id": "a5ed04d8-cfb3-4a21-a36d-8eeaf1bd5675",
   "metadata": {},
   "outputs": [],
   "source": []
  },
  {
   "cell_type": "code",
   "execution_count": 6,
   "id": "5820b04f-6f42-45f7-9955-b98712e27513",
   "metadata": {},
   "outputs": [
    {
     "data": {
      "text/plain": [
       "[1,\n",
       " 3,\n",
       " 5,\n",
       " 7,\n",
       " 9,\n",
       " 11,\n",
       " 13,\n",
       " 15,\n",
       " 17,\n",
       " 19,\n",
       " 21,\n",
       " 23,\n",
       " 25,\n",
       " 27,\n",
       " 29,\n",
       " 31,\n",
       " 33,\n",
       " 35,\n",
       " 37,\n",
       " 39,\n",
       " 41,\n",
       " 43,\n",
       " 45,\n",
       " 47,\n",
       " 49,\n",
       " 51,\n",
       " 53,\n",
       " 55,\n",
       " 57,\n",
       " 59,\n",
       " 61,\n",
       " 63,\n",
       " 65,\n",
       " 67,\n",
       " 69,\n",
       " 71,\n",
       " 73,\n",
       " 75,\n",
       " 77,\n",
       " 79,\n",
       " 81,\n",
       " 83,\n",
       " 85,\n",
       " 87,\n",
       " 89,\n",
       " 91,\n",
       " 93,\n",
       " 95,\n",
       " 97,\n",
       " 99]"
      ]
     },
     "execution_count": 6,
     "metadata": {},
     "output_type": "execute_result"
    }
   ],
   "source": [
    "#Question 9\n",
    "#write a code to print odd nubers from 1 to 100 using list comprehension\n",
    "[i for i in range(1,101,2)]"
   ]
  },
  {
   "cell_type": "code",
   "execution_count": null,
   "id": "f4c0624a-8aa0-4521-8d12-4ee6da454650",
   "metadata": {},
   "outputs": [],
   "source": []
  },
  {
   "cell_type": "code",
   "execution_count": null,
   "id": "4e42d978-7308-4ab2-902a-f453f5c47fe6",
   "metadata": {},
   "outputs": [],
   "source": []
  },
  {
   "cell_type": "code",
   "execution_count": null,
   "id": "bc314cff-21da-46bb-8544-4226cc2da77d",
   "metadata": {},
   "outputs": [],
   "source": []
  }
 ],
 "metadata": {
  "kernelspec": {
   "display_name": "Python 3 (ipykernel)",
   "language": "python",
   "name": "python3"
  },
  "language_info": {
   "codemirror_mode": {
    "name": "ipython",
    "version": 3
   },
   "file_extension": ".py",
   "mimetype": "text/x-python",
   "name": "python",
   "nbconvert_exporter": "python",
   "pygments_lexer": "ipython3",
   "version": "3.10.8"
  }
 },
 "nbformat": 4,
 "nbformat_minor": 5
}
