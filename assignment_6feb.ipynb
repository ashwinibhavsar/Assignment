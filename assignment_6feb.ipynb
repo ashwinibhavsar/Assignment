{
 "cells": [
  {
   "cell_type": "code",
   "execution_count": null,
   "id": "1c232381-f99e-47a8-85dd-de6253773440",
   "metadata": {},
   "outputs": [],
   "source": [
    "#Q1. Create a function which will take a list as an argument and return the product of all the numbers\n",
    "#after creating a flat list.\n",
    "#Use the below-given list as an argument for your function.\n",
    "#list1 = [1,2,3,4, [44,55,66, True], False, (34,56,78,89,34), {1,2,3,3,2,1}, {1:34, \"key2\": [55, 67, 78, 89], 4: (45,\n",
    "#22, 61, 34)}, [56, 'data science'], 'Machine Learning']"
   ]
  },
  {
   "cell_type": "code",
   "execution_count": 141,
   "id": "e261da67-26a0-452b-89ad-257ab2e37679",
   "metadata": {},
   "outputs": [],
   "source": [
    "#ans:\n",
    "list1 = [1,2,3,4, [44,55,66, True], False, (34,56,78,89,34), {1,2,3,3,2,1}, {1:34, \"key2\": [55, 67, 78, 89], 4: (45,22, 61, 34)}, \n",
    "          [56, 'data science'], 'Machine Learning']\n",
    "flat = []\n",
    "def flat_list(list1):\n",
    "   \n",
    "    for i in list1:\n",
    "        if type(i)==list or  type(i)==tuple or type(i)==set:\n",
    "            for j in i:\n",
    "                flat.append(j)\n",
    "        elif type(i)==dict : \n",
    "            for j in i.values():\n",
    "                if type(j)==tuple or type(j)==list:\n",
    "                    for k in j:\n",
    "                        flat.append(k)\n",
    "            for j in i.keys():\n",
    "                flat.append(j)\n",
    "        else:\n",
    "            if type(i)==bool or type(i)==str or type(i)==int:\n",
    "                flat.append(i)\n",
    "    l3 = []  \n",
    "    for i in flat:\n",
    "        if(type(i)==int):\n",
    "            l3.append(i**2)\n",
    "    print(l3)\n",
    "    return flat \n",
    "   "
   ]
  },
  {
   "cell_type": "code",
   "execution_count": 142,
   "id": "75d38005-11f8-440e-b504-5783553b7540",
   "metadata": {},
   "outputs": [
    {
     "name": "stdout",
     "output_type": "stream",
     "text": [
      "[1, 4, 9, 16, 1936, 3025, 4356, 1156, 3136, 6084, 7921, 1156, 1, 4, 9, 3025, 4489, 6084, 7921, 2025, 484, 3721, 1156, 1, 16, 3136]\n",
      "[1, 2, 3, 4, 44, 55, 66, True, False, 34, 56, 78, 89, 34, 1, 2, 3, 55, 67, 78, 89, 45, 22, 61, 34, 1, 'key2', 4, 56, 'data science', 'Machine Learning']\n"
     ]
    }
   ],
   "source": [
    "p = flat_list(list1)\n",
    "print(p)"
   ]
  },
  {
   "cell_type": "code",
   "execution_count": null,
   "id": "1089145c-8f35-4b4b-aee4-081fb035fa34",
   "metadata": {},
   "outputs": [],
   "source": []
  },
  {
   "cell_type": "code",
   "execution_count": 143,
   "id": "e4fec673-8b0e-4698-b211-2fc816add383",
   "metadata": {},
   "outputs": [],
   "source": [
    "#Q2. Write a python program for encrypting a message sent to you by your friend. The logic of encryption\n",
    "#should be such that, for a the output should be z. For b, the output should be y. For c, the output should\n",
    "#be x respectively. Also, the whitespace should be replaced with a dollar sign. Keep the punctuation\n",
    "#marks unchanged."
   ]
  },
  {
   "cell_type": "code",
   "execution_count": 1,
   "id": "ee1398f2-87fc-4144-8078-3687f24ba643",
   "metadata": {},
   "outputs": [
    {
     "name": "stdout",
     "output_type": "stream",
     "text": [
      "i want to become a data scientist.\n"
     ]
    }
   ],
   "source": [
    "s = \"I want to become a Data Scientist.\"\n",
    "t =s.lower()\n",
    "print(t)"
   ]
  },
  {
   "cell_type": "code",
   "execution_count": 5,
   "id": "cd85c1a2-4397-4e6e-849f-84287a9886a7",
   "metadata": {},
   "outputs": [
    {
     "name": "stdin",
     "output_type": "stream",
     "text": [
      "enter your string i want to become data scientist\n"
     ]
    },
    {
     "name": "stdout",
     "output_type": "stream",
     "text": [
      "r$dzmg$gl$yvxlnv$wzgz$hxrvmgrhg\n"
     ]
    }
   ],
   "source": [
    "\n",
    "def encryption(t):\n",
    "    l1 = {\" \":\"$\",\"a\":\"z\",\"b\":\"y\",\"c\":\"x\",\"d\":\"w\",\"e\":\"v\",\"f\":\"u\",\"g\":\"t\",\"h\":\"s\",\"i\":\"r\",\"j\":\"q\",\"k\":\"p\",\"l\":\"o\",\"m\":\"n\",\"n\":\"m\",\"o\":\"l\",\n",
    "            \"p\":\"k\",\"q\":\"j\",\"r\":\"i\",\"s\":\"h\",\"t\":\"g\",\"u\":\"f\",\"v\":\"e\",\"w\":\"d\",\"x\":\"c\",\"y\":\"b\",\"z\":\"a\"}\n",
    "    \n",
    "    new = []\n",
    "    for i in t:\n",
    "        for k,v in l1.items():\n",
    "            if i==k:\n",
    "                new.append(v)\n",
    "    res=\"\".join(new)\n",
    "    print(res)\n",
    "s1 = input(\"enter your string\")    \n",
    "encryption(s1.lower())    "
   ]
  },
  {
   "cell_type": "code",
   "execution_count": null,
   "id": "d9720e85-85e4-41ba-bb18-4100261722cc",
   "metadata": {},
   "outputs": [],
   "source": []
  }
 ],
 "metadata": {
  "kernelspec": {
   "display_name": "Python 3 (ipykernel)",
   "language": "python",
   "name": "python3"
  },
  "language_info": {
   "codemirror_mode": {
    "name": "ipython",
    "version": 3
   },
   "file_extension": ".py",
   "mimetype": "text/x-python",
   "name": "python",
   "nbconvert_exporter": "python",
   "pygments_lexer": "ipython3",
   "version": "3.10.8"
  }
 },
 "nbformat": 4,
 "nbformat_minor": 5
}
