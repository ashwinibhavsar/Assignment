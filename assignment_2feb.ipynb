{
 "cells": [
  {
   "cell_type": "code",
   "execution_count": 1,
   "id": "f9eca18e-57f0-471a-a9d5-f0457d7cf881",
   "metadata": {},
   "outputs": [],
   "source": [
    "#Question 1\n",
    "#explain with an example each when to use a for loo and a while loop"
   ]
  },
  {
   "cell_type": "code",
   "execution_count": 2,
   "id": "d9c4ee47-363e-4035-8d2c-d115c0d35443",
   "metadata": {},
   "outputs": [],
   "source": [
    "#We use the for loop when you know how many times the loop should run. If you want the loop to break based on a condition other than\n",
    "#the number of times it runs, you should use a while loop"
   ]
  },
  {
   "cell_type": "code",
   "execution_count": 3,
   "id": "fbc5f00d-3fa0-4fb3-9ce1-fddf10a28e46",
   "metadata": {},
   "outputs": [
    {
     "name": "stdout",
     "output_type": "stream",
     "text": [
      "0\n",
      "1\n",
      "2\n",
      "3\n",
      "4\n",
      "5\n",
      "6\n",
      "7\n",
      "8\n",
      "9\n"
     ]
    }
   ],
   "source": [
    "i=0\n",
    "while(i<10):\n",
    "    print(i)\n",
    "    i=i+1"
   ]
  },
  {
   "cell_type": "code",
   "execution_count": 4,
   "id": "59f2c14b-3a2e-4b81-94ba-f2d267048542",
   "metadata": {},
   "outputs": [
    {
     "name": "stdout",
     "output_type": "stream",
     "text": [
      "1\n",
      "2\n",
      "3\n",
      "4\n",
      "5\n",
      "6\n",
      "7\n",
      "8\n",
      "9\n",
      "10\n"
     ]
    }
   ],
   "source": [
    "l = [1,2,3,4,5,6,7,8,9,10]\n",
    "for i in l:\n",
    "    print(i)"
   ]
  },
  {
   "cell_type": "code",
   "execution_count": null,
   "id": "250f6cd5-ca70-4ff1-93c8-30850e0d13fb",
   "metadata": {},
   "outputs": [],
   "source": []
  },
  {
   "cell_type": "code",
   "execution_count": null,
   "id": "f3fd1055-3784-41f2-ac33-5ba145a61481",
   "metadata": {},
   "outputs": [],
   "source": [
    "#Question 2\n",
    "#write a python program to print the sum and the product of first 10 natural numbers using for and while loop "
   ]
  },
  {
   "cell_type": "code",
   "execution_count": 4,
   "id": "3a0c1da5-e03b-4947-939c-6dc725c5845c",
   "metadata": {},
   "outputs": [
    {
     "name": "stdout",
     "output_type": "stream",
     "text": [
      "55\n",
      "3628800\n"
     ]
    }
   ],
   "source": [
    "i=1\n",
    "sum = 0\n",
    "product = 1\n",
    "while(i<11):\n",
    "    sum = sum +i\n",
    "    product = product*i\n",
    "    i = i+1\n",
    "print(sum)   \n",
    "print(product)"
   ]
  },
  {
   "cell_type": "code",
   "execution_count": 1,
   "id": "5dad2bae-c774-4b88-8f97-4308342c8dfc",
   "metadata": {},
   "outputs": [
    {
     "name": "stdout",
     "output_type": "stream",
     "text": [
      "55\n",
      "3628800\n"
     ]
    }
   ],
   "source": [
    "sum =0\n",
    "product=1\n",
    "for i in range(1,11,1):\n",
    "    sum=sum+i\n",
    "    product = product*i\n",
    "print(sum) \n",
    "print(product)\n",
    "    "
   ]
  },
  {
   "cell_type": "code",
   "execution_count": null,
   "id": "f01fab18-dc8b-4cc4-bd21-d35b303d5b48",
   "metadata": {},
   "outputs": [],
   "source": []
  },
  {
   "cell_type": "code",
   "execution_count": null,
   "id": "c526492c-273c-4379-997a-f16ebcfe43c6",
   "metadata": {},
   "outputs": [],
   "source": []
  },
  {
   "cell_type": "code",
   "execution_count": null,
   "id": "365d171e-1016-4c0a-b5cd-1ebdb0c09033",
   "metadata": {},
   "outputs": [],
   "source": [
    "#Question 3 \n",
    "#craete a python program to compute the electricity bill for a household. The per-unit charges in Rs are as follows:\n"
   ]
  },
  {
   "cell_type": "code",
   "execution_count": 12,
   "id": "b7f3e0fc-3b91-40c9-82ac-d11d7d10898d",
   "metadata": {},
   "outputs": [
    {
     "name": "stdin",
     "output_type": "stream",
     "text": [
      "Enter the units 310\n"
     ]
    },
    {
     "name": "stdout",
     "output_type": "stream",
     "text": [
      "2250\n"
     ]
    }
   ],
   "source": [
    "n =int (input(\"Enter the units\"))\n",
    "i=1\n",
    "while(i<=n):\n",
    "    if(i<=100):\n",
    "        k=i*4.5\n",
    "    elif(i<=200):\n",
    "        k =450+(n-100)*6\n",
    "    elif(i<=300):\n",
    "        k = 450 + 600 + (n-200)*10\n",
    "    else:\n",
    "        k= 450 + 600 + 1000 + (n-300)*20\n",
    "    i = i+1   \n",
    "print(k)    "
   ]
  },
  {
   "cell_type": "code",
   "execution_count": null,
   "id": "ba8a7718-9bf5-4f16-bc95-e5c0ed0683b9",
   "metadata": {},
   "outputs": [],
   "source": []
  },
  {
   "cell_type": "code",
   "execution_count": 3,
   "id": "114ebf9a-dc58-46b6-8f5d-4f88437d2b99",
   "metadata": {},
   "outputs": [],
   "source": [
    "#Question 4\n",
    "#create a list numbers from 1 to 100 . use for loop and while loop to calculate the cube of each number and if the cube of that number is divisible\n",
    "#by 4 or 5 then append that number in a list and print that list"
   ]
  },
  {
   "cell_type": "code",
   "execution_count": 2,
   "id": "0ddf603e-8208-4f5b-af11-02aa63603ce4",
   "metadata": {},
   "outputs": [
    {
     "name": "stdout",
     "output_type": "stream",
     "text": [
      "[1, 2, 3, 4, 5, 6, 7, 8, 9, 10, 11, 12, 13, 14, 15, 16, 17, 18, 19, 20, 21, 22, 23, 24, 25, 26, 27, 28, 29, 30, 31, 32, 33, 34, 35, 36, 37, 38, 39, 40, 41, 42, 43, 44, 45, 46, 47, 48, 49, 50, 51, 52, 53, 54, 55, 56, 57, 58, 59, 60, 61, 62, 63, 64, 65, 66, 67, 68, 69, 70, 71, 72, 73, 74, 75, 76, 77, 78, 79, 80, 81, 82, 83, 84, 85, 86, 87, 88, 89, 90, 91, 92, 93, 94, 95, 96, 97, 98, 99, 100]\n"
     ]
    }
   ],
   "source": [
    "l1=[]\n",
    "for i in range(1,101,1):\n",
    "    l1.append(i)\n",
    "print(l1)    "
   ]
  },
  {
   "cell_type": "code",
   "execution_count": 31,
   "id": "774f5e03-4365-4d81-ad6f-388603fd54bb",
   "metadata": {},
   "outputs": [
    {
     "name": "stdout",
     "output_type": "stream",
     "text": [
      "[8, 64, 125, 216, 512, 1000, 1728, 2744, 3375, 4096, 5832, 8000, 10648, 13824, 15625, 17576, 21952, 27000, 32768, 39304, 42875, 46656, 54872, 64000, 74088, 85184, 91125, 97336, 110592, 125000, 140608, 157464, 166375, 175616, 195112, 216000, 238328, 262144, 274625, 287496, 314432, 343000, 373248, 405224, 421875, 438976, 474552, 512000, 551368, 592704, 614125, 636056, 681472, 729000, 778688, 830584, 857375, 884736, 941192, 1000000]\n"
     ]
    }
   ],
   "source": [
    "l5 = []\n",
    "for i in range(1,101,1):\n",
    "    k =(i**3)\n",
    "    if(k%4==0 or k%5==0):\n",
    "        l5.append(k)\n",
    "print(l5)        "
   ]
  },
  {
   "cell_type": "code",
   "execution_count": 30,
   "id": "5d80cd03-36ad-4311-9357-a8334dd52783",
   "metadata": {},
   "outputs": [
    {
     "name": "stdout",
     "output_type": "stream",
     "text": [
      "[8, 64, 125, 216, 512, 1000, 1728, 2744, 3375, 4096, 5832, 8000, 10648, 13824, 15625, 17576, 21952, 27000, 32768, 39304, 42875, 46656, 54872, 64000, 74088, 85184, 91125, 97336, 110592, 125000, 140608, 157464, 166375, 175616, 195112, 216000, 238328, 262144, 274625, 287496, 314432, 343000, 373248, 405224, 421875, 438976, 474552, 512000, 551368, 592704, 614125, 636056, 681472, 729000, 778688, 830584, 857375, 884736, 941192, 1000000]\n"
     ]
    }
   ],
   "source": [
    "l4 = []\n",
    "i = 1\n",
    "while(i<101):\n",
    "    k =(i**3)\n",
    "    if(k%4==0 or k%5==0):\n",
    "        l4.append(k)\n",
    "    i = i+1  \n",
    "print(l4)    "
   ]
  },
  {
   "cell_type": "code",
   "execution_count": null,
   "id": "c8a290f6-3885-4522-a4fc-85bc1397244d",
   "metadata": {},
   "outputs": [],
   "source": []
  },
  {
   "cell_type": "code",
   "execution_count": 20,
   "id": "f65f305b-2169-4c53-91e1-6e70eb1b7234",
   "metadata": {},
   "outputs": [],
   "source": [
    "#Question 5\n",
    "#write a program to filter count vowels in the below-given string\n",
    "#string =\"I want to become a data scientist\""
   ]
  },
  {
   "cell_type": "code",
   "execution_count": 26,
   "id": "f2c8d7fb-91b2-44eb-980a-ffb3899eb647",
   "metadata": {},
   "outputs": [
    {
     "name": "stdout",
     "output_type": "stream",
     "text": [
      "11\n"
     ]
    }
   ],
   "source": [
    "string = \"I want to become a data scientist\"\n",
    "count = 0\n",
    "for i in string:\n",
    "    if(i== 'a' or i == 'e' or i =='i' or i == 'o' or i == 'u'):\n",
    "        count  = count +1\n",
    "print(count)   "
   ]
  },
  {
   "cell_type": "code",
   "execution_count": null,
   "id": "493905f4-d508-47ad-8856-2fb6bcdc5f12",
   "metadata": {},
   "outputs": [],
   "source": []
  }
 ],
 "metadata": {
  "kernelspec": {
   "display_name": "Python 3 (ipykernel)",
   "language": "python",
   "name": "python3"
  },
  "language_info": {
   "codemirror_mode": {
    "name": "ipython",
    "version": 3
   },
   "file_extension": ".py",
   "mimetype": "text/x-python",
   "name": "python",
   "nbconvert_exporter": "python",
   "pygments_lexer": "ipython3",
   "version": "3.10.8"
  }
 },
 "nbformat": 4,
 "nbformat_minor": 5
}
