{
 "cells": [
  {
   "cell_type": "code",
   "execution_count": 1,
   "id": "47bc334a-e453-4e06-bdff-abb3260d5418",
   "metadata": {},
   "outputs": [],
   "source": [
    "#Question 1:Explain the class and objects with respect to object-Oriented Programming.Give a suitable examples"
   ]
  },
  {
   "cell_type": "code",
   "execution_count": 1,
   "id": "98e81d01-0403-4f88-bd85-90f3984e0047",
   "metadata": {},
   "outputs": [],
   "source": [
    "#ans:CLASS:- A class is the collection of object.A class contains blueprints or the prototypes from which the objects are being created.\n",
    "#     OBJECT:-The object is an entity that has a state and behaviour associated with it.integer,string,float,dictionaries all are objects.\n",
    "\n",
    "class marks:\n",
    "    \n",
    "    def __init__(self , math_no, physics_no, result):\n",
    "        \n",
    "        self.math_no = math_no\n",
    "        self.physics_no = physics_no\n",
    "        self.result = result\n",
    "        \n",
    "    def return_student_details(self):    \n",
    "        return self.math_no, self.physics_no, self.result"
   ]
  },
  {
   "cell_type": "code",
   "execution_count": 2,
   "id": "e3e039bc-1db1-42ab-b8c5-86f9b90d722e",
   "metadata": {},
   "outputs": [],
   "source": [
    "ashwini = marks(95,94,(94+95)/2)"
   ]
  },
  {
   "cell_type": "code",
   "execution_count": 3,
   "id": "94ba89b3-ca7b-4f15-bf49-6ada53673f10",
   "metadata": {},
   "outputs": [
    {
     "data": {
      "text/plain": [
       "(95, 94, 94.5)"
      ]
     },
     "execution_count": 3,
     "metadata": {},
     "output_type": "execute_result"
    }
   ],
   "source": [
    "ashwini.return_student_details()"
   ]
  },
  {
   "cell_type": "code",
   "execution_count": null,
   "id": "d8796234-8eeb-4854-898e-9db68e18e403",
   "metadata": {},
   "outputs": [],
   "source": []
  },
  {
   "cell_type": "code",
   "execution_count": null,
   "id": "e58b1fda-d287-4227-8591-cbe47607f915",
   "metadata": {},
   "outputs": [],
   "source": []
  },
  {
   "cell_type": "code",
   "execution_count": 6,
   "id": "ae3be089-3b8a-44eb-af2e-6cc8a102058c",
   "metadata": {},
   "outputs": [],
   "source": [
    "#Question 2:Name the four pillars of OOPs\n"
   ]
  },
  {
   "cell_type": "code",
   "execution_count": null,
   "id": "e68906f0-e464-460e-b400-5d258e49338b",
   "metadata": {},
   "outputs": [],
   "source": [
    "\"\"\"\n",
    "The four pillars of OOP or Object Oriented Programming are as follows:\n",
    "\n",
    "1.Inheritance\n",
    "2.Encapsulation\n",
    "3.Polymorphism\n",
    "4.Abstraction\n",
    "\"\"\""
   ]
  },
  {
   "cell_type": "code",
   "execution_count": null,
   "id": "e3db82d9-73e4-4c62-b765-6a7f30a6981e",
   "metadata": {},
   "outputs": [],
   "source": []
  },
  {
   "cell_type": "code",
   "execution_count": 3,
   "id": "77a33741-f0eb-45c6-b720-0519e7146842",
   "metadata": {},
   "outputs": [],
   "source": [
    "#Question 3:Explain why __init__()function is used.Give a suitable example"
   ]
  },
  {
   "cell_type": "code",
   "execution_count": 4,
   "id": "75d53d85-be30-4abc-be02-eacbe4604eba",
   "metadata": {},
   "outputs": [],
   "source": [
    "#The __init__ function is called every time an object is created from a class.\n",
    "#The __init__ method lets the class initialize the object’s attributes and serves no other purpose. It is only used within classes.\n",
    "\n",
    "\n",
    "class marks:\n",
    "    \n",
    "    def __init__(self , math_no, physics_no, result):\n",
    "        \n",
    "        self.math_no = math_no\n",
    "        self.physics_no = physics_no\n",
    "        self.result = result\n",
    "        \n",
    "    def return_student_details(self):    \n",
    "        return self.math_no, self.physics_no, self.result"
   ]
  },
  {
   "cell_type": "code",
   "execution_count": 5,
   "id": "942cfd47-14aa-490d-8492-50e07fa2d641",
   "metadata": {},
   "outputs": [],
   "source": [
    "ganesh = marks(98,97,(98+97)/2)"
   ]
  },
  {
   "cell_type": "code",
   "execution_count": 7,
   "id": "11944835-f4ee-43c3-a8a6-8f0f9b618aea",
   "metadata": {},
   "outputs": [
    {
     "data": {
      "text/plain": [
       "(98, 97, 97.5)"
      ]
     },
     "execution_count": 7,
     "metadata": {},
     "output_type": "execute_result"
    }
   ],
   "source": [
    "ganesh.return_student_details()"
   ]
  },
  {
   "cell_type": "code",
   "execution_count": null,
   "id": "1ec65844-b422-4742-b5d6-6a0ddc1c2bfd",
   "metadata": {},
   "outputs": [],
   "source": []
  },
  {
   "cell_type": "code",
   "execution_count": 4,
   "id": "c7ef5cb0-8441-4615-8eb1-13600e0b45db",
   "metadata": {},
   "outputs": [],
   "source": [
    "#Question 4:why self is used in OOPs"
   ]
  },
  {
   "cell_type": "code",
   "execution_count": null,
   "id": "4505e639-581b-4275-ac94-a0dd1ad63cdd",
   "metadata": {},
   "outputs": [],
   "source": [
    "#Ans: The self parameter is a reference to the current instance of the class, and is used to access variables that belong to the class"
   ]
  },
  {
   "cell_type": "code",
   "execution_count": null,
   "id": "003e99f1-c6cf-4cd6-97c6-03714dc4d412",
   "metadata": {},
   "outputs": [],
   "source": []
  },
  {
   "cell_type": "code",
   "execution_count": 5,
   "id": "4ecb4df6-580d-48b7-b145-b4573d89470e",
   "metadata": {},
   "outputs": [],
   "source": [
    "#Question 5:What is inheritance , give an examples of each type of inheritance\n"
   ]
  },
  {
   "cell_type": "code",
   "execution_count": null,
   "id": "a92f7a06-0f1c-4d95-b101-7969541ec7f8",
   "metadata": {},
   "outputs": [],
   "source": [
    "#Ans: Inheritance is a mechanism that allows you to create a hierarchy of classes that share a set of properties and methods by deriving a class\n",
    "#     from another class. Inheritance is the capability of one class to derive or inherit the properties from another class. "
   ]
  },
  {
   "cell_type": "code",
   "execution_count": 3,
   "id": "bb0be615-e714-4a98-9ca8-1c9c5cbe605d",
   "metadata": {},
   "outputs": [],
   "source": [
    "#mutlilevel inheritance\n",
    "class class1:\n",
    "    def test_class1(self):\n",
    "        return \"good morning\"\n",
    "    \n",
    "class class2(class1):\n",
    "    def test_class2(self):\n",
    "        return \"good afternoon\"\n",
    "class class3(class2):\n",
    "    pass"
   ]
  },
  {
   "cell_type": "code",
   "execution_count": 7,
   "id": "d109f780-cb1a-4afc-9f19-ef9940401166",
   "metadata": {},
   "outputs": [],
   "source": [
    "obj_class3 = class3()"
   ]
  },
  {
   "cell_type": "code",
   "execution_count": 8,
   "id": "e5079ddb-6b67-438d-9f3e-4b5e4aca4eff",
   "metadata": {},
   "outputs": [
    {
     "data": {
      "text/plain": [
       "'good morning'"
      ]
     },
     "execution_count": 8,
     "metadata": {},
     "output_type": "execute_result"
    }
   ],
   "source": [
    "obj_class3.test_class1()"
   ]
  },
  {
   "cell_type": "code",
   "execution_count": 9,
   "id": "6d829005-1784-4318-aca3-a683318be0e1",
   "metadata": {},
   "outputs": [
    {
     "data": {
      "text/plain": [
       "'good afternoon'"
      ]
     },
     "execution_count": 9,
     "metadata": {},
     "output_type": "execute_result"
    }
   ],
   "source": [
    "obj_class3.test_class2()"
   ]
  },
  {
   "cell_type": "code",
   "execution_count": null,
   "id": "0e9d2d7b-0a06-4ccd-acb6-65b589d787b8",
   "metadata": {},
   "outputs": [],
   "source": []
  },
  {
   "cell_type": "code",
   "execution_count": 10,
   "id": "25e2341c-feeb-446c-ac93-2d0e508f20eb",
   "metadata": {},
   "outputs": [],
   "source": [
    "#multiple inheritance"
   ]
  },
  {
   "cell_type": "code",
   "execution_count": 22,
   "id": "1fb46d62-21a8-4995-bf99-2cbf7616ecc0",
   "metadata": {},
   "outputs": [],
   "source": [
    "class maths:\n",
    "    def maths_marks(self,marks):\n",
    "        print(\"your maths marks are \",marks)\n",
    "class physics:\n",
    "    def physics_marks(self,marks):\n",
    "         print(\"your physics marks are \",marks)\n",
    "class average(maths,physics):\n",
    "    pass"
   ]
  },
  {
   "cell_type": "code",
   "execution_count": 26,
   "id": "47321678-3f0e-454f-8441-9ad7c45d6bd3",
   "metadata": {},
   "outputs": [],
   "source": [
    "a = average()"
   ]
  },
  {
   "cell_type": "code",
   "execution_count": 29,
   "id": "9362a632-bca8-4947-965a-2c9ef304cb2c",
   "metadata": {},
   "outputs": [
    {
     "name": "stdout",
     "output_type": "stream",
     "text": [
      "your maths marks are  96\n"
     ]
    }
   ],
   "source": [
    "a.maths_marks(96)"
   ]
  },
  {
   "cell_type": "code",
   "execution_count": 30,
   "id": "ff93e356-5314-4936-a0f0-d443fe43c80c",
   "metadata": {},
   "outputs": [
    {
     "name": "stdout",
     "output_type": "stream",
     "text": [
      "your physics marks are  92\n"
     ]
    }
   ],
   "source": [
    "a.physics_marks(92)"
   ]
  },
  {
   "cell_type": "code",
   "execution_count": null,
   "id": "8b0eefa0-908e-4dfc-aea9-5b9cbc1aa73a",
   "metadata": {},
   "outputs": [],
   "source": []
  }
 ],
 "metadata": {
  "kernelspec": {
   "display_name": "Python 3 (ipykernel)",
   "language": "python",
   "name": "python3"
  },
  "language_info": {
   "codemirror_mode": {
    "name": "ipython",
    "version": 3
   },
   "file_extension": ".py",
   "mimetype": "text/x-python",
   "name": "python",
   "nbconvert_exporter": "python",
   "pygments_lexer": "ipython3",
   "version": "3.10.8"
  }
 },
 "nbformat": 4,
 "nbformat_minor": 5
}
