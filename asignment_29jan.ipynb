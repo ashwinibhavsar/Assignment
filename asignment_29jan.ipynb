{
 "cells": [
  {
   "cell_type": "code",
   "execution_count": 1,
   "id": "b79299c7-ef46-4fdc-9cef-b35e030d7c62",
   "metadata": {},
   "outputs": [],
   "source": [
    "#Q1: Who develop the python programming language\n",
    "#ans: Guido Van Rossum"
   ]
  },
  {
   "cell_type": "code",
   "execution_count": 2,
   "id": "bb850ebf-c3b6-4b4f-a353-4b03eaba1ac5",
   "metadata": {},
   "outputs": [],
   "source": [
    "#Q2: Which type of the programming does python support\n",
    "#ans: Python supports scripting and OOPS"
   ]
  },
  {
   "cell_type": "code",
   "execution_count": 3,
   "id": "7447d55c-aa54-49b6-b7fe-04c5b63aacbf",
   "metadata": {},
   "outputs": [],
   "source": [
    "#Q3: Is python case sensitive when dealing with identifiers\n",
    "#ans: Yes python is the case sensitive language i.e. it treats uppercase and lowercase character differently"
   ]
  },
  {
   "cell_type": "code",
   "execution_count": 4,
   "id": "2559a11b-bfe2-4cd2-bf32-dddebb0eebff",
   "metadata": {},
   "outputs": [],
   "source": [
    "#Q4: What is the correct extension of the python file\n",
    "#ans: .py extension"
   ]
  },
  {
   "cell_type": "code",
   "execution_count": 5,
   "id": "fd97f52e-1282-4f7f-a15a-8596c05a00a2",
   "metadata": {},
   "outputs": [],
   "source": [
    "\"\"\"Q5: Is python code complied or interpreted\n",
    "   ans: Pyhon is an interpreted language ,which means the source code of a python program is \n",
    "        converted into bytecode that is then executed by the python virtual machine\"\"\""
   ]
  },
  {
   "cell_type": "code",
   "execution_count": 7,
   "id": "d4aecdf5-23f9-4efb-ab13-8e4a066742eb",
   "metadata": {},
   "outputs": [
    {
     "data": {
      "text/plain": [
       "'Q6: Name of few block of code used to define in python language\\n   ans: Indentation is used to define a block of a code in python.\\n        block:- a module , a function body and a class definiton\\n'"
      ]
     },
     "execution_count": 7,
     "metadata": {},
     "output_type": "execute_result"
    }
   ],
   "source": [
    "\"\"\"Q6: Name of few block of code used to define in python language\n",
    "   ans: Indentation is used to define a block of a code in python.\n",
    "        block:- a module , a function body and a class definiton\n",
    "\"\"\""
   ]
  },
  {
   "cell_type": "code",
   "execution_count": 8,
   "id": "e402162d-0998-4a82-b094-1cb1fe52879c",
   "metadata": {},
   "outputs": [],
   "source": [
    "#Q7: State the character used to give single-line comment in python\n",
    "#ans: # or ##"
   ]
  },
  {
   "cell_type": "code",
   "execution_count": 9,
   "id": "9fad50eb-599d-4f2b-bddd-4d324c5736ee",
   "metadata": {},
   "outputs": [],
   "source": [
    "#Q8: Mention the function which can help us to find the version of the python that we are currently working one\n",
    "#ans: sys.version"
   ]
  },
  {
   "cell_type": "code",
   "execution_count": 10,
   "id": "54a0cafd-a715-45fd-be6c-5cce0e65bc5d",
   "metadata": {},
   "outputs": [],
   "source": [
    "#Q9: Python supports the creation of anonymous function at runtime , using a constructor called LAMBDA"
   ]
  },
  {
   "cell_type": "code",
   "execution_count": 11,
   "id": "ec5b0289-9c7d-4293-b199-58641ebd0281",
   "metadata": {},
   "outputs": [],
   "source": [
    "#Q10: what does pip stand for python\n",
    "#ans: pip=preferred installer program\n",
    "#      It allow you to install and manage additional package that are not part of the python standard library\n"
   ]
  },
  {
   "cell_type": "code",
   "execution_count": 13,
   "id": "32a71456-ac77-4eb1-80d7-6d16f00e7444",
   "metadata": {},
   "outputs": [],
   "source": [
    "#Q11: Mention a few built in function in python\n",
    "#ans: print(), type(), input(), max(), pow(), sum(),len(),min(),bool()"
   ]
  },
  {
   "cell_type": "code",
   "execution_count": 14,
   "id": "cd0c0647-949a-4955-845b-49d3b51567e6",
   "metadata": {},
   "outputs": [],
   "source": [
    "#Q12: What is the maximum possible length of an identifier in python \n",
    "#ans: 79 characters"
   ]
  },
  {
   "cell_type": "code",
   "execution_count": 1,
   "id": "823deb59-7b5d-4d67-815e-fc78d266ea89",
   "metadata": {},
   "outputs": [],
   "source": [
    "#Q13: What are the benifits of using python\n",
    "#ans: 1) Python is open source language , 2)It needs less coding , 3)write less do more , 4)extensive libraries , 5)large developer community"
   ]
  },
  {
   "cell_type": "code",
   "execution_count": 2,
   "id": "69f002ba-929d-4ba3-97c3-187847c413c5",
   "metadata": {},
   "outputs": [],
   "source": [
    "#Q14: How is memory managed in python\n",
    "#ans: Memory management in python involves a private heap containing all python objects and data structure"
   ]
  },
  {
   "cell_type": "code",
   "execution_count": 3,
   "id": "40adb876-8e71-4b97-a9f1-591dae749903",
   "metadata": {},
   "outputs": [
    {
     "data": {
      "text/plain": [
       "\"Q15: How to install python on windows and set path variables\\n   ans: 1)Download the python installer binaries\\n        2)Run the executable installer\\n        3)Now set path\\n           i)Rigth clicking to this PC and going to properties\\n           ii)Clicking on the advanced sysytem setting in the menu on the left\\n           iii)Clicking on the environment variable button on the bottom right\\n           iv) In the sysytem variable section, selecting the path variable and clicking on edit\\n           v) clicking on new and entering python's install directory\""
      ]
     },
     "execution_count": 3,
     "metadata": {},
     "output_type": "execute_result"
    }
   ],
   "source": [
    "\"\"\"Q15: How to install python on windows and set path variables\n",
    "   ans: 1)Download the python installer binaries\n",
    "        2)Run the executable installer\n",
    "        3)Now set path\n",
    "           i)Rigth clicking to this PC and going to properties\n",
    "           ii)Clicking on the advanced sysytem setting in the menu on the left\n",
    "           iii)Clicking on the environment variable button on the bottom right\n",
    "           iv) In the sysytem variable section, selecting the path variable and clicking on edit\n",
    "           v) clicking on new and entering python's install directory\"\"\""
   ]
  },
  {
   "cell_type": "code",
   "execution_count": null,
   "id": "32612dc0-2189-4945-890b-252ae847c52d",
   "metadata": {},
   "outputs": [],
   "source": [
    "#Q16: Is indentation required in python\n",
    "#ans: Yes"
   ]
  }
 ],
 "metadata": {
  "kernelspec": {
   "display_name": "Python 3 (ipykernel)",
   "language": "python",
   "name": "python3"
  },
  "language_info": {
   "codemirror_mode": {
    "name": "ipython",
    "version": 3
   },
   "file_extension": ".py",
   "mimetype": "text/x-python",
   "name": "python",
   "nbconvert_exporter": "python",
   "pygments_lexer": "ipython3",
   "version": "3.10.8"
  }
 },
 "nbformat": 4,
 "nbformat_minor": 5
}
