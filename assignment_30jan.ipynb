{
 "cells": [
  {
   "cell_type": "code",
   "execution_count": 1,
   "id": "6bb7ae51-ae27-4516-b9e7-889e34894a5d",
   "metadata": {},
   "outputs": [],
   "source": [
    "#Question 1\n"
   ]
  },
  {
   "cell_type": "code",
   "execution_count": 2,
   "id": "b629c97e-ab43-4748-874b-b2808bfbd23e",
   "metadata": {},
   "outputs": [
    {
     "name": "stdin",
     "output_type": "stream",
     "text": [
      "Enter your marks 60\n"
     ]
    },
    {
     "name": "stdout",
     "output_type": "stream",
     "text": [
      "Grade C\n"
     ]
    }
   ],
   "source": [
    "marks =  int(input(\"Enter your marks\"))\n",
    "if(marks>90):\n",
    "    print(\"Grade A\")\n",
    "elif(marks>80 and marks<=90):\n",
    "    print(\"Grade B\")\n",
    "elif(marks>=60 and marks<=80):\n",
    "    print(\"Grade C\")\n",
    "else:\n",
    "    print(\"Grade D\")"
   ]
  },
  {
   "cell_type": "code",
   "execution_count": null,
   "id": "28f08e19-66ff-4046-817c-56f013ae8fb9",
   "metadata": {},
   "outputs": [],
   "source": [
    "\n"
   ]
  },
  {
   "cell_type": "code",
   "execution_count": 3,
   "id": "a26bf4e9-15da-48a3-a7a8-6fa462b2c6cd",
   "metadata": {},
   "outputs": [],
   "source": [
    "#Question 2\n"
   ]
  },
  {
   "cell_type": "code",
   "execution_count": 5,
   "id": "ff7fb545-4059-4139-a672-a58788b46a7a",
   "metadata": {},
   "outputs": [
    {
     "name": "stdin",
     "output_type": "stream",
     "text": [
      "Enter the cost price of the bike 100000\n"
     ]
    },
    {
     "name": "stdout",
     "output_type": "stream",
     "text": [
      "You have to pay 10% road tax\n"
     ]
    }
   ],
   "source": [
    "cost_price = int(input(\"Enter the cost price of the bike\"))\n",
    "if(cost_price >100000):\n",
    "    print(\"You have to pay 15% road tax\")\n",
    "elif(cost_price >50000 and cost_price<=1000000):\n",
    "    print(\"You have to pay 10% road tax\")\n",
    "else:\n",
    "    print(\"You have to pay 5% road tax\")\n"
   ]
  },
  {
   "cell_type": "code",
   "execution_count": null,
   "id": "000c90f1-766f-44e8-ac08-bbbd45dfdaf5",
   "metadata": {},
   "outputs": [],
   "source": []
  },
  {
   "cell_type": "code",
   "execution_count": 6,
   "id": "7df18b93-60c4-440a-af29-6fb736c35177",
   "metadata": {},
   "outputs": [],
   "source": [
    "#Question 3\n"
   ]
  },
  {
   "cell_type": "code",
   "execution_count": 11,
   "id": "d1404770-e793-4290-b769-eba40913704e",
   "metadata": {},
   "outputs": [
    {
     "name": "stdin",
     "output_type": "stream",
     "text": [
      "Enter the name of the city Agra\n"
     ]
    },
    {
     "name": "stdout",
     "output_type": "stream",
     "text": [
      "The monument is:Taj Mahal\n"
     ]
    }
   ],
   "source": [
    "city = str(input(\"Enter the name of the city\"))\n",
    "if(city=='Delhi'):\n",
    "    print(\"The monument is:Red Fort\")\n",
    "elif(city=='Agra'):\n",
    "     print(\"The monument is:Taj Mahal\")\n",
    "elif(city=='Jaipur'):\n",
    "     print(\"The monument is:Jal Mahal\")\n",
    "else:\n",
    "     print(\"The monument is:None\")"
   ]
  },
  {
   "cell_type": "code",
   "execution_count": null,
   "id": "8b8f74f2-1f99-4db0-87ad-a59c95c802c7",
   "metadata": {},
   "outputs": [],
   "source": []
  },
  {
   "cell_type": "code",
   "execution_count": null,
   "id": "0bab5a68-d2ac-46e8-b4d8-fea6c68fb1a4",
   "metadata": {},
   "outputs": [],
   "source": [
    "#Question 4\n",
    "#check how many times a given number can be divided by 3 before it is less than or equal to 10"
   ]
  },
  {
   "cell_type": "code",
   "execution_count": 2,
   "id": "0d08b61f-3778-43b8-a96f-3ffa46299c5c",
   "metadata": {},
   "outputs": [
    {
     "name": "stdin",
     "output_type": "stream",
     "text": [
      "Enter the number 24\n"
     ]
    },
    {
     "name": "stdout",
     "output_type": "stream",
     "text": [
      "5\n"
     ]
    }
   ],
   "source": [
    "number = int(input(\"Enter the number\"))\n",
    "count = 0\n",
    "while(number>=10):\n",
    "    if(number%3==0):\n",
    "        count = count + 1  \n",
    "        \n",
    "    number = number-1   \n",
    "print(count)        "
   ]
  },
  {
   "cell_type": "code",
   "execution_count": 3,
   "id": "ee00c2ad-b1d1-46c6-9ca7-4477da17bbe8",
   "metadata": {},
   "outputs": [],
   "source": [
    "#Question 5\n",
    "#why and when to use while loop in python give detailed description with example"
   ]
  },
  {
   "cell_type": "code",
   "execution_count": null,
   "id": "2180d914-67c7-4f15-ae13-a01391059aed",
   "metadata": {},
   "outputs": [],
   "source": [
    "##The while loop is used to run a block code until the second condition is met"
   ]
  },
  {
   "cell_type": "code",
   "execution_count": 2,
   "id": "7a1cc940-e921-40bf-8028-a070111dbf47",
   "metadata": {},
   "outputs": [
    {
     "name": "stdout",
     "output_type": "stream",
     "text": [
      "0\n",
      "1\n",
      "2\n",
      "3\n",
      "4\n",
      "5\n",
      "6\n",
      "7\n",
      "8\n",
      "9\n"
     ]
    }
   ],
   "source": [
    "i=0\n",
    "n=10\n",
    "while(i<n):\n",
    "    print(i)\n",
    "    i = i+1"
   ]
  },
  {
   "cell_type": "code",
   "execution_count": null,
   "id": "35caac50-3b2a-4c1f-9683-54e5e5d230ca",
   "metadata": {},
   "outputs": [],
   "source": []
  },
  {
   "cell_type": "code",
   "execution_count": 3,
   "id": "ce85b9dc-675f-4dc1-97a1-a4bf44561787",
   "metadata": {},
   "outputs": [],
   "source": [
    "#Question 6\n",
    "#use nested while loop to print 3 different pattern"
   ]
  },
  {
   "cell_type": "code",
   "execution_count": 5,
   "id": "07114f3b-2e72-45d6-9d80-746ea48425e6",
   "metadata": {},
   "outputs": [
    {
     "name": "stdout",
     "output_type": "stream",
     "text": [
      "Good Morning\n",
      "Good Afternoon\n",
      "Good Night\n",
      "Good Night\n",
      "Good Afternoon\n",
      "Good Night\n",
      "Good Night\n",
      "Good Morning\n",
      "Good Afternoon\n",
      "Good Night\n",
      "Good Night\n",
      "Good Afternoon\n",
      "Good Night\n",
      "Good Night\n",
      "Good Morning\n",
      "Good Afternoon\n",
      "Good Night\n",
      "Good Night\n",
      "Good Afternoon\n",
      "Good Night\n",
      "Good Night\n"
     ]
    }
   ],
   "source": [
    "i=1\n",
    "while(i<=3):\n",
    "    print(\"Good Morning\")\n",
    "    j=1\n",
    "    while(j<=2):\n",
    "        print(\"Good Afternoon\")\n",
    "        k=1\n",
    "        while(k<=2):\n",
    "            print(\"Good Night\")\n",
    "            k=k+1\n",
    "        j=j+1\n",
    "    i=i+1       "
   ]
  },
  {
   "cell_type": "code",
   "execution_count": null,
   "id": "329cdc64-cb86-4afd-bb0c-f3770c5d4ee7",
   "metadata": {},
   "outputs": [],
   "source": []
  },
  {
   "cell_type": "code",
   "execution_count": 6,
   "id": "683d5f5d-624d-43f6-bfe0-dd70feddbfe3",
   "metadata": {},
   "outputs": [],
   "source": [
    "#Question 7:\n",
    "#reverse the while loop to display numbers from 10 to 1"
   ]
  },
  {
   "cell_type": "code",
   "execution_count": 3,
   "id": "81457ece-7835-48a9-9278-9c480e088e2b",
   "metadata": {},
   "outputs": [
    {
     "name": "stdout",
     "output_type": "stream",
     "text": [
      "10\n",
      "9\n",
      "8\n",
      "7\n",
      "6\n",
      "5\n",
      "4\n",
      "3\n",
      "2\n",
      "1\n"
     ]
    }
   ],
   "source": [
    "i=0\n",
    "n=10\n",
    "while(i<n):\n",
    "    print(n)\n",
    "    n=n-1"
   ]
  },
  {
   "cell_type": "code",
   "execution_count": null,
   "id": "689f07e8-aa48-4e5b-8223-648838603f91",
   "metadata": {},
   "outputs": [],
   "source": []
  }
 ],
 "metadata": {
  "kernelspec": {
   "display_name": "Python 3 (ipykernel)",
   "language": "python",
   "name": "python3"
  },
  "language_info": {
   "codemirror_mode": {
    "name": "ipython",
    "version": 3
   },
   "file_extension": ".py",
   "mimetype": "text/x-python",
   "name": "python",
   "nbconvert_exporter": "python",
   "pygments_lexer": "ipython3",
   "version": "3.10.8"
  }
 },
 "nbformat": 4,
 "nbformat_minor": 5
}
