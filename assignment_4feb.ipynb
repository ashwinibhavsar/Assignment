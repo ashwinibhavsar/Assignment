{
 "cells": [
  {
   "cell_type": "code",
   "execution_count": 31,
   "id": "7a53a42f-e6b1-405a-8f00-561ce506f860",
   "metadata": {},
   "outputs": [],
   "source": [
    "#Question 1\n",
    "#create the python program to sort the given list of tuples based on integer value using a lambda function\n",
    "#[('sachin tendulkar',34357),('Rinky Ponting',27483),('Jack Kalllis',25534),('Virat Kohli',24963)]"
   ]
  },
  {
   "cell_type": "code",
   "execution_count": 41,
   "id": "ce2a6cca-dc97-401b-acea-6c6fa1f60617",
   "metadata": {},
   "outputs": [
    {
     "name": "stdout",
     "output_type": "stream",
     "text": [
      "[('Virat Kohli', 24963), ('Jack Kalllis', 25534), ('Rinky Ponting', 27483), ('sachin tendulkar', 34357)]\n"
     ]
    }
   ],
   "source": [
    "l2  = [('sachin tendulkar',34357),('Rinky Ponting',27483),('Jack Kalllis',25534),('Virat Kohli',24963)]\n",
    "sort =sorted(l2, key= lambda x : x[1])\n",
    "print(sort)"
   ]
  },
  {
   "cell_type": "code",
   "execution_count": null,
   "id": "8d67a947-56cf-40f9-81f4-04aa752a28d8",
   "metadata": {},
   "outputs": [],
   "source": []
  },
  {
   "cell_type": "code",
   "execution_count": null,
   "id": "234c22ba-7f16-407b-8461-8f54c56003f5",
   "metadata": {},
   "outputs": [],
   "source": [
    "#Question 2\n",
    "#write the pyrthon program to find the square of all the number in the given list of integer using lambda and map function [1,2,3,4,5,6,7,8,9,10]"
   ]
  },
  {
   "cell_type": "code",
   "execution_count": 4,
   "id": "8bca7a42-d7c6-4a37-b994-3dd87a29e009",
   "metadata": {},
   "outputs": [],
   "source": [
    "l = [1,2,3,4,5,6,7,8,9,10]"
   ]
  },
  {
   "cell_type": "code",
   "execution_count": 5,
   "id": "e75be4f8-753d-41ab-9d86-4dcea0bd256f",
   "metadata": {},
   "outputs": [],
   "source": [
    "sq = lambda a : a**2"
   ]
  },
  {
   "cell_type": "code",
   "execution_count": 7,
   "id": "4f8e35b7-4d3c-47a4-b8fd-8f9795775eab",
   "metadata": {},
   "outputs": [
    {
     "data": {
      "text/plain": [
       "[1, 4, 9, 16, 25, 36, 49, 64, 81, 100]"
      ]
     },
     "execution_count": 7,
     "metadata": {},
     "output_type": "execute_result"
    }
   ],
   "source": [
    "list(map(sq,l))"
   ]
  },
  {
   "cell_type": "code",
   "execution_count": null,
   "id": "b752b3df-0488-4406-8a85-2e455f96cf91",
   "metadata": {},
   "outputs": [],
   "source": []
  },
  {
   "cell_type": "code",
   "execution_count": null,
   "id": "8922878b-0612-4114-bf61-7865532aa701",
   "metadata": {},
   "outputs": [],
   "source": []
  },
  {
   "cell_type": "code",
   "execution_count": null,
   "id": "f2e6fbef-398b-4cbd-93eb-2ac45db33291",
   "metadata": {},
   "outputs": [],
   "source": [
    "#Question 3\n",
    "#write the python program to convert the given list of integer into a tuple of strings. use map and lambda function  [1,2,3,4,5,6,7,8,9,10]"
   ]
  },
  {
   "cell_type": "code",
   "execution_count": 8,
   "id": "9b2c7e6f-2e73-4a4b-b785-4e1218131880",
   "metadata": {},
   "outputs": [],
   "source": [
    "s = [1,2,3,4,5,6,7,8,9,10]\n"
   ]
  },
  {
   "cell_type": "code",
   "execution_count": 9,
   "id": "58bfd3c9-ec44-4ef2-8ce5-af43a02aca09",
   "metadata": {},
   "outputs": [],
   "source": [
    "a = lambda s : str(s)"
   ]
  },
  {
   "cell_type": "code",
   "execution_count": 11,
   "id": "694e26d4-8d31-42dc-8115-97cffd21b076",
   "metadata": {},
   "outputs": [
    {
     "data": {
      "text/plain": [
       "('1', '2', '3', '4', '5', '6', '7', '8', '9', '10')"
      ]
     },
     "execution_count": 11,
     "metadata": {},
     "output_type": "execute_result"
    }
   ],
   "source": [
    "tuple(map(a,s))"
   ]
  },
  {
   "cell_type": "code",
   "execution_count": null,
   "id": "8fa179b6-6837-4dfc-a9f3-1abadd465629",
   "metadata": {},
   "outputs": [],
   "source": []
  },
  {
   "cell_type": "code",
   "execution_count": null,
   "id": "485134c6-fed4-4789-ae14-346f1fb6cd1b",
   "metadata": {},
   "outputs": [],
   "source": [
    "#Question 4\n",
    "#write the python program to reduce function to compute the product of the list containing the numbers from 1 to 25"
   ]
  },
  {
   "cell_type": "code",
   "execution_count": null,
   "id": "31db06bd-9042-4fd9-bbe7-f0b21b3f06e8",
   "metadata": {},
   "outputs": [],
   "source": [
    "def square(n):\n",
    "    return n**2"
   ]
  },
  {
   "cell_type": "code",
   "execution_count": 17,
   "id": "996f8a93-0ee4-4778-89d0-3ef714a25e02",
   "metadata": {},
   "outputs": [],
   "source": [
    "sq1  = lambda a : a**2\n",
    "from functools import reduce"
   ]
  },
  {
   "cell_type": "code",
   "execution_count": 30,
   "id": "1f53e2f5-7ed0-42db-baf9-9540111dad42",
   "metadata": {},
   "outputs": [
    {
     "data": {
      "text/plain": [
       "15511210043330985984000000"
      ]
     },
     "execution_count": 30,
     "metadata": {},
     "output_type": "execute_result"
    }
   ],
   "source": [
    "l1 =[1,2,3,4,5,6,7,8,9,10,11,12,13,14,15,16,17,18,19,20,21,22,23,24,25]\n",
    "reduce( lambda x,y : x*y,l1)"
   ]
  },
  {
   "cell_type": "code",
   "execution_count": null,
   "id": "c0b49e49-a229-4662-8c0b-c74885a7d905",
   "metadata": {},
   "outputs": [],
   "source": []
  },
  {
   "cell_type": "code",
   "execution_count": 23,
   "id": "ddd127a9-7c97-4995-860e-aff0b647bc57",
   "metadata": {},
   "outputs": [],
   "source": [
    "#Question 5\n",
    "#write the python program to filter the number in a given list that are divisible by 2 and 3 using the filter fuction [2,3,6,9,27,60,90,120,55,46]"
   ]
  },
  {
   "cell_type": "code",
   "execution_count": 3,
   "id": "fb70b8b5-2f82-413d-ab25-e3cc2dd00c09",
   "metadata": {},
   "outputs": [],
   "source": [
    "l4 = [2,3,6,9,27,60,90,120,55,46]"
   ]
  },
  {
   "cell_type": "code",
   "execution_count": 4,
   "id": "3a6bda7b-5ce3-489a-836c-f347c3010e14",
   "metadata": {},
   "outputs": [
    {
     "data": {
      "text/plain": [
       "[6, 60, 90, 120]"
      ]
     },
     "execution_count": 4,
     "metadata": {},
     "output_type": "execute_result"
    }
   ],
   "source": [
    "(list(filter(lambda x : x%2==0 and x%3==0,l4)))"
   ]
  },
  {
   "cell_type": "code",
   "execution_count": null,
   "id": "e54390a4-a9dc-4632-8397-9c06c4fc3611",
   "metadata": {},
   "outputs": [],
   "source": []
  },
  {
   "cell_type": "code",
   "execution_count": 28,
   "id": "74002fab-6621-436b-a161-b17b4a2f340f",
   "metadata": {},
   "outputs": [],
   "source": [
    "#Question 6\n",
    "#write a python program to find palindromes in the given list of strings using lambda and filter function  [\"Python\", \"php\", \"aba\",\"radar\", \"level\"]"
   ]
  },
  {
   "cell_type": "code",
   "execution_count": 55,
   "id": "9dde945e-83ca-4f12-9ed0-6297e310d332",
   "metadata": {},
   "outputs": [
    {
     "name": "stdout",
     "output_type": "stream",
     "text": [
      "Original list of strings:\n",
      "['Python', 'php', 'aba', 'radar', 'level']\n",
      "The palindrom list is:\n",
      "['php', 'aba', 'radar', 'level']\n"
     ]
    }
   ],
   "source": [
    "l5 = [\"Python\", \"php\", \"aba\",\"radar\", \"level\"]\n",
    "print(\"Original list of strings:\")\n",
    "print(l5)\n",
    "result  = list(filter(lambda x: (x == \"\".join(reversed(x))),l5))\n",
    "print(\"The palindrom list is:\")\n",
    "print(result)       "
   ]
  },
  {
   "cell_type": "code",
   "execution_count": null,
   "id": "38167afd-b792-4104-8bb1-4e2c466890b9",
   "metadata": {},
   "outputs": [],
   "source": []
  }
 ],
 "metadata": {
  "kernelspec": {
   "display_name": "Python 3 (ipykernel)",
   "language": "python",
   "name": "python3"
  },
  "language_info": {
   "codemirror_mode": {
    "name": "ipython",
    "version": 3
   },
   "file_extension": ".py",
   "mimetype": "text/x-python",
   "name": "python",
   "nbconvert_exporter": "python",
   "pygments_lexer": "ipython3",
   "version": "3.10.8"
  }
 },
 "nbformat": 4,
 "nbformat_minor": 5
}
